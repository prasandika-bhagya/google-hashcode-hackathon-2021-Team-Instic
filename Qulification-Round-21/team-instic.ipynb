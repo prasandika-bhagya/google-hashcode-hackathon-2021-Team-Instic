{
 "cells": [
  {
   "cell_type": "code",
   "execution_count": 4,
   "metadata": {},
   "outputs": [],
   "source": [
    "class Solution:\n",
    "    def __init__(self) -> None:\n",
    "        super().__init__()\n",
    "        self.data = None\n",
    "        self.input_file_name = './a.txt'\n",
    "        self.output_file_name = 'main.txt'\n",
    "        self.STREETS = {}\n",
    "        self.CARS = {}\n",
    "        self.STREETS_LENS = {}\n",
    "        self.DURATION = None\n",
    "        self.NUM_INTER = None\n",
    "        self.NUM_STREETS = None\n",
    "        self.NUM_CARS = None\n",
    "        self.BONUS = None\n",
    "\n",
    "\n",
    "    def read_input(self, file_name):\n",
    "        with open(file_name) as f:\n",
    "            self.data = [i.strip() for i in f.readlines()]\n",
    "            line_num = 0\n",
    "            self.DURATION, self.NUM_INTER, self.NUM_STREETS, self.NUM_CARS, self.BONUS = map(int, self.data[0].split(' '))\n",
    "            for _ in range(self.NUM_STREETS):\n",
    "                line_num += 1\n",
    "                line = self.data[line_num]\n",
    "                START, END, NAME, LEN = line.split(' ')\n",
    "                self.STREETS[NAME] = {'start': int(START), 'end': int(END), 'len': int(LEN)}\n",
    "                self.STREETS_LENS[NAME] = LEN\n",
    "\n",
    "            for i in range(self.NUM_CARS):\n",
    "                line_num += 1\n",
    "                line = self.data[line_num]\n",
    "                CAR_STREETS = line.split(' ')[1:]\n",
    "                self.CARS[i] = list(CAR_STREETS)\n",
    "\n",
    "\n",
    "    def run(self):\n",
    "        self.read_input(self.input_file_name)\n",
    "        with open(self.output_file_name, 'w') as f:\n",
    "            f.writelines(self.data)"
   ]
  },
  {
   "cell_type": "code",
   "execution_count": 5,
   "metadata": {},
   "outputs": [],
   "source": [
    "s = Solution()\n",
    "s.run()"
   ]
  },
  {
   "cell_type": "code",
   "execution_count": null,
   "metadata": {},
   "outputs": [],
   "source": []
  }
 ],
 "metadata": {
  "kernelspec": {
   "display_name": "Python 3",
   "language": "python",
   "name": "python3"
  },
  "language_info": {
   "codemirror_mode": {
    "name": "ipython",
    "version": 3
   },
   "file_extension": ".py",
   "mimetype": "text/x-python",
   "name": "python",
   "nbconvert_exporter": "python",
   "pygments_lexer": "ipython3",
   "version": "3.8.3"
  }
 },
 "nbformat": 4,
 "nbformat_minor": 4
}
