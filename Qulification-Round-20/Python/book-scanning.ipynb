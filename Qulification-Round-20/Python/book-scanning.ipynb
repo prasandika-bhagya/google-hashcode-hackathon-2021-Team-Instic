{
 "cells": [
  {
   "cell_type": "code",
   "execution_count": 50,
   "metadata": {},
   "outputs": [],
   "source": [
    "# Read Data from the file\n",
    "import os\n",
    "import io\n",
    "\n",
    "data = os.listdir('./data/')\n",
    "file = open('./data/'+data[0])\n",
    "\n",
    "firstline = file.readline()[:-1].split(\" \")\n",
    "secondline = file.readline()[:-1].split(\" \")"
   ]
  },
  {
   "cell_type": "code",
   "execution_count": 71,
   "metadata": {},
   "outputs": [],
   "source": [
    "def load_data(filename):\n",
    "    data_dict = {}\n",
    "    \n",
    "    with io.open(filename) as f:\n",
    "        books, libraries, days = f.readline()[:-1].split(' ')\n",
    "        \n",
    "        data_dict[\"numberofbooks\"] = int(books)\n",
    "        data_dict[\"numberoflibraries\"] = int(libraries)\n",
    "        data_dict[\"numberofdays\"] = int(days)\n",
    "        bookScore = {}\n",
    "        \n",
    "        for i in range(6):\n",
    "            bookScore[i] = int(i+1)\n",
    "            \n",
    "        data_dict[\"books_scores\"] = bookScore\n",
    "        data_dict[\"librs\"] = {}\n",
    "\n",
    "    return data_dict"
   ]
  },
  {
   "cell_type": "code",
   "execution_count": 72,
   "metadata": {},
   "outputs": [
    {
     "name": "stdout",
     "output_type": "stream",
     "text": [
      "{'numberofbooks': 6, 'numberoflibraries': 2, 'numberofdays': 7, 'books_scores': {0: 1, 1: 2, 2: 3, 3: 4, 4: 5, 5: 6}, 'librs': {}}\n"
     ]
    }
   ],
   "source": [
    "print(load_data(\"a_example.txt\"))"
   ]
  }
 ],
 "metadata": {
  "kernelspec": {
   "display_name": "Python 3",
   "language": "python",
   "name": "python3"
  },
  "language_info": {
   "codemirror_mode": {
    "name": "ipython",
    "version": 3
   },
   "file_extension": ".py",
   "mimetype": "text/x-python",
   "name": "python",
   "nbconvert_exporter": "python",
   "pygments_lexer": "ipython3",
   "version": "3.8.3"
  }
 },
 "nbformat": 4,
 "nbformat_minor": 4
}
